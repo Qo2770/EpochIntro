{
  "nbformat": 4,
  "nbformat_minor": 0,
  "metadata": {
    "colab": {
      "name": "Epoch Intro Competition.ipynb",
      "provenance": [],
      "toc_visible": true,
      "mount_file_id": "1fsqg3c_66Bb5e3PnhN21z_hrPhPm7l1N",
      "authorship_tag": "ABX9TyPTSCQELv3mObv/ESnaIfg2",
      "include_colab_link": true
    },
    "kernelspec": {
      "name": "python3",
      "display_name": "Python 3"
    },
    "language_info": {
      "name": "python"
    }
  },
  "cells": [
    {
      "cell_type": "markdown",
      "metadata": {
        "id": "view-in-github",
        "colab_type": "text"
      },
      "source": [
        "<a href=\"https://colab.research.google.com/github/Qo2770/EpochIntro/blob/main/Epoch_Intro_Competition.ipynb\" target=\"_parent\"><img src=\"https://colab.research.google.com/assets/colab-badge.svg\" alt=\"Open In Colab\"/></a>"
      ]
    },
    {
      "cell_type": "markdown",
      "metadata": {
        "id": "CKeSgpDq39TZ"
      },
      "source": [
        "# Team 2"
      ]
    },
    {
      "cell_type": "markdown",
      "metadata": {
        "id": "9NIjWd9I4B_G"
      },
      "source": [
        "## About the Data\n"
      ]
    },
    {
      "cell_type": "markdown",
      "metadata": {
        "id": "b4c933mr4FAJ"
      },
      "source": [
        "## Current best parameters + score"
      ]
    },
    {
      "cell_type": "markdown",
      "metadata": {
        "id": "kCROGac34JBS"
      },
      "source": [
        "# Code\n"
      ]
    },
    {
      "cell_type": "markdown",
      "metadata": {
        "id": "5kvElRLA4Mng"
      },
      "source": [
        "## Data loading"
      ]
    },
    {
      "cell_type": "markdown",
      "metadata": {
        "id": "stX31uY14PM6"
      },
      "source": [
        "## Global Params"
      ]
    },
    {
      "cell_type": "markdown",
      "metadata": {
        "id": "Hioh6mnN4Roj"
      },
      "source": [
        "## Data Augmentation"
      ]
    },
    {
      "cell_type": "markdown",
      "metadata": {
        "id": "6JiCISEG4WkT"
      },
      "source": [
        "## Model Setup"
      ]
    },
    {
      "cell_type": "markdown",
      "metadata": {
        "id": "DerL1I3B4Zn4"
      },
      "source": [
        "## Training"
      ]
    },
    {
      "cell_type": "markdown",
      "metadata": {
        "id": "m6rkYCKa4bBa"
      },
      "source": [
        "## Evaulation"
      ]
    },
    {
      "cell_type": "markdown",
      "metadata": {
        "id": "HVu8epHB4dXf"
      },
      "source": [
        "## Main Loop"
      ]
    }
  ]
}