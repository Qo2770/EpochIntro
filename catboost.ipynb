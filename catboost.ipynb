{
 "cells": [
  {
   "cell_type": "code",
   "execution_count": 56,
   "id": "579a91ae",
   "metadata": {
    "ExecuteTime": {
     "end_time": "2021-08-26T10:44:10.241277Z",
     "start_time": "2021-08-26T10:44:10.237939Z"
    }
   },
   "outputs": [],
   "source": [
    "import pandas as pd\n",
    "import numpy as np\n",
    "import matplotlib.pyplot as plt\n",
    "\n",
    "from collections import Counter\n",
    "\n",
    "from sklearn.model_selection import cross_val_score\n",
    "from collections import Counter as cnt\n",
    "from sklearn.metrics import f1_score\n",
    "from sklearn.metrics import accuracy_score as accuracy\n",
    "from sklearn.model_selection import train_test_split as ttsplit\n",
    "from catboost import CatBoostClassifier as Cat\n",
    "from catboost import Pool"
   ]
  },
  {
   "cell_type": "code",
   "execution_count": 2,
   "id": "5660b6f3",
   "metadata": {
    "ExecuteTime": {
     "end_time": "2021-08-26T10:19:31.522534Z",
     "start_time": "2021-08-26T10:18:58.853466Z"
    }
   },
   "outputs": [
    {
     "name": "stdout",
     "output_type": "stream",
     "text": [
      "Collecting catboost\n",
      "  Downloading catboost-0.26.1-cp38-none-macosx_10_6_intel.macosx_10_9_intel.macosx_10_9_x86_64.macosx_10_10_intel.macosx_10_10_x86_64.whl (12.0 MB)\n",
      "\u001b[K     |████████████████████████████████| 12.0 MB 378 kB/s eta 0:00:01\n",
      "\u001b[?25hRequirement already satisfied: pandas>=0.24.0 in /opt/anaconda3/lib/python3.8/site-packages (from catboost) (1.2.4)\n",
      "Requirement already satisfied: matplotlib in /opt/anaconda3/lib/python3.8/site-packages (from catboost) (3.3.4)\n",
      "Collecting graphviz\n",
      "  Downloading graphviz-0.17-py3-none-any.whl (18 kB)\n",
      "Requirement already satisfied: numpy>=1.16.0 in /opt/anaconda3/lib/python3.8/site-packages (from catboost) (1.20.1)\n",
      "Requirement already satisfied: scipy in /opt/anaconda3/lib/python3.8/site-packages (from catboost) (1.6.2)\n",
      "Collecting plotly\n",
      "  Downloading plotly-5.2.2-py2.py3-none-any.whl (21.8 MB)\n",
      "\u001b[K     |████████████████████████████████| 21.8 MB 4.1 MB/s eta 0:00:01\n",
      "\u001b[?25hRequirement already satisfied: six in /opt/anaconda3/lib/python3.8/site-packages (from catboost) (1.15.0)\n",
      "Requirement already satisfied: python-dateutil>=2.7.3 in /opt/anaconda3/lib/python3.8/site-packages (from pandas>=0.24.0->catboost) (2.8.1)\n",
      "Requirement already satisfied: pytz>=2017.3 in /opt/anaconda3/lib/python3.8/site-packages (from pandas>=0.24.0->catboost) (2021.1)\n",
      "Requirement already satisfied: pyparsing!=2.0.4,!=2.1.2,!=2.1.6,>=2.0.3 in /opt/anaconda3/lib/python3.8/site-packages (from matplotlib->catboost) (2.4.7)\n",
      "Requirement already satisfied: kiwisolver>=1.0.1 in /opt/anaconda3/lib/python3.8/site-packages (from matplotlib->catboost) (1.3.1)\n",
      "Requirement already satisfied: pillow>=6.2.0 in /opt/anaconda3/lib/python3.8/site-packages (from matplotlib->catboost) (8.2.0)\n",
      "Requirement already satisfied: cycler>=0.10 in /opt/anaconda3/lib/python3.8/site-packages (from matplotlib->catboost) (0.10.0)\n",
      "Collecting tenacity>=6.2.0\n",
      "  Downloading tenacity-8.0.1-py3-none-any.whl (24 kB)\n",
      "Installing collected packages: tenacity, plotly, graphviz, catboost\n",
      "Successfully installed catboost-0.26.1 graphviz-0.17 plotly-5.2.2 tenacity-8.0.1\n"
     ]
    }
   ],
   "source": [
    "!pip install catboost"
   ]
  },
  {
   "cell_type": "code",
   "execution_count": 43,
   "id": "5f90fddc",
   "metadata": {
    "ExecuteTime": {
     "end_time": "2021-08-26T10:40:34.185921Z",
     "start_time": "2021-08-26T10:40:34.177757Z"
    }
   },
   "outputs": [
    {
     "data": {
      "text/plain": [
       "891"
      ]
     },
     "execution_count": 43,
     "metadata": {},
     "output_type": "execute_result"
    }
   ],
   "source": [
    "data = pd.read_csv('titanic/train.csv')\n",
    "len(data)"
   ]
  },
  {
   "cell_type": "code",
   "execution_count": 79,
   "id": "0275d37d",
   "metadata": {
    "ExecuteTime": {
     "end_time": "2021-08-26T10:58:32.132803Z",
     "start_time": "2021-08-26T10:58:32.130290Z"
    }
   },
   "outputs": [],
   "source": [
    "df = data.copy()"
   ]
  },
  {
   "cell_type": "code",
   "execution_count": 80,
   "id": "b79ae8c5",
   "metadata": {
    "ExecuteTime": {
     "end_time": "2021-08-26T10:58:32.365919Z",
     "start_time": "2021-08-26T10:58:32.352060Z"
    }
   },
   "outputs": [
    {
     "data": {
      "text/html": [
       "<div>\n",
       "<style scoped>\n",
       "    .dataframe tbody tr th:only-of-type {\n",
       "        vertical-align: middle;\n",
       "    }\n",
       "\n",
       "    .dataframe tbody tr th {\n",
       "        vertical-align: top;\n",
       "    }\n",
       "\n",
       "    .dataframe thead th {\n",
       "        text-align: right;\n",
       "    }\n",
       "</style>\n",
       "<table border=\"1\" class=\"dataframe\">\n",
       "  <thead>\n",
       "    <tr style=\"text-align: right;\">\n",
       "      <th></th>\n",
       "      <th>Survived</th>\n",
       "      <th>Pclass</th>\n",
       "      <th>Sex</th>\n",
       "      <th>Age</th>\n",
       "      <th>SibSp</th>\n",
       "      <th>Parch</th>\n",
       "      <th>Ticket</th>\n",
       "      <th>Fare</th>\n",
       "      <th>Cabin</th>\n",
       "      <th>Embarked</th>\n",
       "    </tr>\n",
       "  </thead>\n",
       "  <tbody>\n",
       "    <tr>\n",
       "      <th>0</th>\n",
       "      <td>0</td>\n",
       "      <td>3</td>\n",
       "      <td>male</td>\n",
       "      <td>22.0</td>\n",
       "      <td>1</td>\n",
       "      <td>0</td>\n",
       "      <td>A/5 21171</td>\n",
       "      <td>7.2500</td>\n",
       "      <td>C0</td>\n",
       "      <td>S</td>\n",
       "    </tr>\n",
       "    <tr>\n",
       "      <th>1</th>\n",
       "      <td>1</td>\n",
       "      <td>1</td>\n",
       "      <td>female</td>\n",
       "      <td>38.0</td>\n",
       "      <td>1</td>\n",
       "      <td>0</td>\n",
       "      <td>PC 17599</td>\n",
       "      <td>71.2833</td>\n",
       "      <td>C85</td>\n",
       "      <td>C</td>\n",
       "    </tr>\n",
       "    <tr>\n",
       "      <th>2</th>\n",
       "      <td>1</td>\n",
       "      <td>3</td>\n",
       "      <td>female</td>\n",
       "      <td>26.0</td>\n",
       "      <td>0</td>\n",
       "      <td>0</td>\n",
       "      <td>STON/O2. 3101282</td>\n",
       "      <td>7.9250</td>\n",
       "      <td>C0</td>\n",
       "      <td>S</td>\n",
       "    </tr>\n",
       "    <tr>\n",
       "      <th>3</th>\n",
       "      <td>1</td>\n",
       "      <td>1</td>\n",
       "      <td>female</td>\n",
       "      <td>35.0</td>\n",
       "      <td>1</td>\n",
       "      <td>0</td>\n",
       "      <td>113803</td>\n",
       "      <td>53.1000</td>\n",
       "      <td>C123</td>\n",
       "      <td>S</td>\n",
       "    </tr>\n",
       "    <tr>\n",
       "      <th>4</th>\n",
       "      <td>0</td>\n",
       "      <td>3</td>\n",
       "      <td>male</td>\n",
       "      <td>35.0</td>\n",
       "      <td>0</td>\n",
       "      <td>0</td>\n",
       "      <td>373450</td>\n",
       "      <td>8.0500</td>\n",
       "      <td>C0</td>\n",
       "      <td>S</td>\n",
       "    </tr>\n",
       "  </tbody>\n",
       "</table>\n",
       "</div>"
      ],
      "text/plain": [
       "   Survived  Pclass     Sex   Age  SibSp  Parch            Ticket     Fare  \\\n",
       "0         0       3    male  22.0      1      0         A/5 21171   7.2500   \n",
       "1         1       1  female  38.0      1      0          PC 17599  71.2833   \n",
       "2         1       3  female  26.0      0      0  STON/O2. 3101282   7.9250   \n",
       "3         1       1  female  35.0      1      0            113803  53.1000   \n",
       "4         0       3    male  35.0      0      0            373450   8.0500   \n",
       "\n",
       "  Cabin Embarked  \n",
       "0    C0        S  \n",
       "1   C85        C  \n",
       "2    C0        S  \n",
       "3  C123        S  \n",
       "4    C0        S  "
      ]
     },
     "execution_count": 80,
     "metadata": {},
     "output_type": "execute_result"
    }
   ],
   "source": [
    "df = df.drop('PassengerId', 1)\n",
    "df = df.drop('Name', 1)\n",
    "df['Cabin'].fillna('C0', inplace=True)\n",
    "df['Embarked'].fillna('S', inplace=True)\n",
    "df.head()"
   ]
  },
  {
   "cell_type": "code",
   "execution_count": 81,
   "id": "5f39b568",
   "metadata": {
    "ExecuteTime": {
     "end_time": "2021-08-26T10:58:32.696681Z",
     "start_time": "2021-08-26T10:58:32.692418Z"
    }
   },
   "outputs": [
    {
     "data": {
      "text/plain": [
       "(3, [('S', 646), ('C', 168), ('Q', 77)])"
      ]
     },
     "execution_count": 81,
     "metadata": {},
     "output_type": "execute_result"
    }
   ],
   "source": [
    "cnt = Counter(df['Embarked'])\n",
    "len(cnt.most_common()), cnt.most_common()"
   ]
  },
  {
   "cell_type": "code",
   "execution_count": 82,
   "id": "7a3c448e",
   "metadata": {
    "ExecuteTime": {
     "end_time": "2021-08-26T10:58:33.050678Z",
     "start_time": "2021-08-26T10:58:33.044978Z"
    }
   },
   "outputs": [],
   "source": [
    "x_train, x_val, y_train, y_val = ttsplit(df.drop('Survived', 1), df['Survived'], test_size=0.2, random_state=123)"
   ]
  },
  {
   "cell_type": "code",
   "execution_count": 83,
   "id": "bb9e9447",
   "metadata": {
    "ExecuteTime": {
     "end_time": "2021-08-26T10:58:33.388048Z",
     "start_time": "2021-08-26T10:58:33.385345Z"
    }
   },
   "outputs": [],
   "source": [
    "cat_feats = ['Pclass', 'Sex', 'Embarked', 'Ticket', 'Cabin']"
   ]
  },
  {
   "cell_type": "code",
   "execution_count": 84,
   "id": "1f83da37",
   "metadata": {
    "ExecuteTime": {
     "end_time": "2021-08-26T10:58:33.673038Z",
     "start_time": "2021-08-26T10:58:33.670719Z"
    }
   },
   "outputs": [],
   "source": [
    "cat = Cat(n_estimators=100, max_depth=6, cat_features=cat_feats)"
   ]
  },
  {
   "cell_type": "code",
   "execution_count": 85,
   "id": "52bc7962",
   "metadata": {
    "ExecuteTime": {
     "end_time": "2021-08-26T10:58:34.000095Z",
     "start_time": "2021-08-26T10:58:33.861518Z"
    },
    "collapsed": true
   },
   "outputs": [
    {
     "name": "stdout",
     "output_type": "stream",
     "text": [
      "Learning rate set to 0.073611\n",
      "0:\tlearn: 0.6707687\ttotal: 1.21ms\tremaining: 120ms\n",
      "1:\tlearn: 0.6476896\ttotal: 3.03ms\tremaining: 149ms\n",
      "2:\tlearn: 0.6269356\ttotal: 4.22ms\tremaining: 137ms\n",
      "3:\tlearn: 0.6081442\ttotal: 4.97ms\tremaining: 119ms\n",
      "4:\tlearn: 0.5938745\ttotal: 6.47ms\tremaining: 123ms\n",
      "5:\tlearn: 0.5790852\ttotal: 7.62ms\tremaining: 119ms\n",
      "6:\tlearn: 0.5662210\ttotal: 9.05ms\tremaining: 120ms\n",
      "7:\tlearn: 0.5544410\ttotal: 10.1ms\tremaining: 117ms\n",
      "8:\tlearn: 0.5434823\ttotal: 11.2ms\tremaining: 113ms\n",
      "9:\tlearn: 0.5350418\ttotal: 12.2ms\tremaining: 110ms\n",
      "10:\tlearn: 0.5262878\ttotal: 13ms\tremaining: 105ms\n",
      "11:\tlearn: 0.5187512\ttotal: 14ms\tremaining: 102ms\n",
      "12:\tlearn: 0.5116865\ttotal: 15.3ms\tremaining: 102ms\n",
      "13:\tlearn: 0.5050159\ttotal: 16.3ms\tremaining: 100ms\n",
      "14:\tlearn: 0.4994234\ttotal: 17.5ms\tremaining: 99.1ms\n",
      "15:\tlearn: 0.4918791\ttotal: 19.1ms\tremaining: 100ms\n",
      "16:\tlearn: 0.4849280\ttotal: 20.5ms\tremaining: 100ms\n",
      "17:\tlearn: 0.4798361\ttotal: 21.7ms\tremaining: 99ms\n",
      "18:\tlearn: 0.4760290\ttotal: 22.5ms\tremaining: 96ms\n",
      "19:\tlearn: 0.4716320\ttotal: 23.8ms\tremaining: 95.3ms\n",
      "20:\tlearn: 0.4673093\ttotal: 25.9ms\tremaining: 97.5ms\n",
      "21:\tlearn: 0.4631596\ttotal: 27.4ms\tremaining: 97ms\n",
      "22:\tlearn: 0.4597689\ttotal: 28.6ms\tremaining: 95.6ms\n",
      "23:\tlearn: 0.4565689\ttotal: 29.8ms\tremaining: 94.3ms\n",
      "24:\tlearn: 0.4528490\ttotal: 31ms\tremaining: 93ms\n",
      "25:\tlearn: 0.4511696\ttotal: 32.3ms\tremaining: 92.1ms\n",
      "26:\tlearn: 0.4492371\ttotal: 33.5ms\tremaining: 90.6ms\n",
      "27:\tlearn: 0.4469131\ttotal: 34.7ms\tremaining: 89.1ms\n",
      "28:\tlearn: 0.4440277\ttotal: 35.8ms\tremaining: 87.6ms\n",
      "29:\tlearn: 0.4417849\ttotal: 36.5ms\tremaining: 85.2ms\n",
      "30:\tlearn: 0.4393113\ttotal: 37.7ms\tremaining: 84ms\n",
      "31:\tlearn: 0.4370507\ttotal: 38.9ms\tremaining: 82.7ms\n",
      "32:\tlearn: 0.4346618\ttotal: 40.2ms\tremaining: 81.6ms\n",
      "33:\tlearn: 0.4331609\ttotal: 41.3ms\tremaining: 80.1ms\n",
      "34:\tlearn: 0.4320515\ttotal: 42.5ms\tremaining: 78.8ms\n",
      "35:\tlearn: 0.4309890\ttotal: 43.4ms\tremaining: 77.1ms\n",
      "36:\tlearn: 0.4297843\ttotal: 44.5ms\tremaining: 75.8ms\n",
      "37:\tlearn: 0.4279457\ttotal: 46ms\tremaining: 75ms\n",
      "38:\tlearn: 0.4265194\ttotal: 47.3ms\tremaining: 74ms\n",
      "39:\tlearn: 0.4256661\ttotal: 48.4ms\tremaining: 72.7ms\n",
      "40:\tlearn: 0.4239496\ttotal: 49.6ms\tremaining: 71.4ms\n",
      "41:\tlearn: 0.4224619\ttotal: 50.8ms\tremaining: 70.1ms\n",
      "42:\tlearn: 0.4204936\ttotal: 51.9ms\tremaining: 68.8ms\n",
      "43:\tlearn: 0.4196750\ttotal: 53ms\tremaining: 67.4ms\n",
      "44:\tlearn: 0.4185865\ttotal: 54.1ms\tremaining: 66.2ms\n",
      "45:\tlearn: 0.4182955\ttotal: 54.6ms\tremaining: 64.2ms\n",
      "46:\tlearn: 0.4172718\ttotal: 55.9ms\tremaining: 63.1ms\n",
      "47:\tlearn: 0.4159747\ttotal: 57.1ms\tremaining: 61.9ms\n",
      "48:\tlearn: 0.4148092\ttotal: 58.2ms\tremaining: 60.6ms\n",
      "49:\tlearn: 0.4142030\ttotal: 59.4ms\tremaining: 59.4ms\n",
      "50:\tlearn: 0.4132644\ttotal: 60.5ms\tremaining: 58.1ms\n",
      "51:\tlearn: 0.4126595\ttotal: 61.6ms\tremaining: 56.8ms\n",
      "52:\tlearn: 0.4115217\ttotal: 62.6ms\tremaining: 55.5ms\n",
      "53:\tlearn: 0.4104074\ttotal: 63.7ms\tremaining: 54.2ms\n",
      "54:\tlearn: 0.4090782\ttotal: 64.7ms\tremaining: 52.9ms\n",
      "55:\tlearn: 0.4086337\ttotal: 65.3ms\tremaining: 51.3ms\n",
      "56:\tlearn: 0.4069701\ttotal: 66.3ms\tremaining: 50ms\n",
      "57:\tlearn: 0.4056799\ttotal: 67.2ms\tremaining: 48.7ms\n",
      "58:\tlearn: 0.4049751\ttotal: 68.1ms\tremaining: 47.3ms\n",
      "59:\tlearn: 0.4042388\ttotal: 69.3ms\tremaining: 46.2ms\n",
      "60:\tlearn: 0.4033029\ttotal: 70.3ms\tremaining: 44.9ms\n",
      "61:\tlearn: 0.4020320\ttotal: 71.3ms\tremaining: 43.7ms\n",
      "62:\tlearn: 0.4015193\ttotal: 72.3ms\tremaining: 42.5ms\n",
      "63:\tlearn: 0.4009329\ttotal: 72.8ms\tremaining: 41ms\n",
      "64:\tlearn: 0.4000439\ttotal: 73.7ms\tremaining: 39.7ms\n",
      "65:\tlearn: 0.3990145\ttotal: 74.6ms\tremaining: 38.4ms\n",
      "66:\tlearn: 0.3987344\ttotal: 75.2ms\tremaining: 37.1ms\n",
      "67:\tlearn: 0.3981486\ttotal: 76.3ms\tremaining: 35.9ms\n",
      "68:\tlearn: 0.3974381\ttotal: 79ms\tremaining: 35.5ms\n",
      "69:\tlearn: 0.3967217\ttotal: 80.1ms\tremaining: 34.3ms\n",
      "70:\tlearn: 0.3956620\ttotal: 81.2ms\tremaining: 33.2ms\n",
      "71:\tlearn: 0.3950946\ttotal: 82.3ms\tremaining: 32ms\n",
      "72:\tlearn: 0.3944638\ttotal: 83.5ms\tremaining: 30.9ms\n",
      "73:\tlearn: 0.3939614\ttotal: 84.6ms\tremaining: 29.7ms\n",
      "74:\tlearn: 0.3935370\ttotal: 85.6ms\tremaining: 28.5ms\n",
      "75:\tlearn: 0.3934169\ttotal: 86.4ms\tremaining: 27.3ms\n",
      "76:\tlearn: 0.3923611\ttotal: 87.5ms\tremaining: 26.1ms\n",
      "77:\tlearn: 0.3920503\ttotal: 88.4ms\tremaining: 24.9ms\n",
      "78:\tlearn: 0.3914041\ttotal: 89.4ms\tremaining: 23.8ms\n",
      "79:\tlearn: 0.3910821\ttotal: 90.5ms\tremaining: 22.6ms\n",
      "80:\tlearn: 0.3908422\ttotal: 91.4ms\tremaining: 21.4ms\n",
      "81:\tlearn: 0.3899321\ttotal: 92.3ms\tremaining: 20.3ms\n",
      "82:\tlearn: 0.3892582\ttotal: 93.2ms\tremaining: 19.1ms\n",
      "83:\tlearn: 0.3881830\ttotal: 94.1ms\tremaining: 17.9ms\n",
      "84:\tlearn: 0.3872601\ttotal: 95ms\tremaining: 16.8ms\n",
      "85:\tlearn: 0.3869179\ttotal: 95.8ms\tremaining: 15.6ms\n",
      "86:\tlearn: 0.3857982\ttotal: 96.7ms\tremaining: 14.5ms\n",
      "87:\tlearn: 0.3853234\ttotal: 97.7ms\tremaining: 13.3ms\n",
      "88:\tlearn: 0.3848734\ttotal: 98.6ms\tremaining: 12.2ms\n",
      "89:\tlearn: 0.3847983\ttotal: 99.6ms\tremaining: 11.1ms\n",
      "90:\tlearn: 0.3841778\ttotal: 101ms\tremaining: 10ms\n",
      "91:\tlearn: 0.3838744\ttotal: 102ms\tremaining: 8.88ms\n",
      "92:\tlearn: 0.3834294\ttotal: 103ms\tremaining: 7.76ms\n",
      "93:\tlearn: 0.3828726\ttotal: 104ms\tremaining: 6.65ms\n",
      "94:\tlearn: 0.3822947\ttotal: 105ms\tremaining: 5.53ms\n",
      "95:\tlearn: 0.3818689\ttotal: 106ms\tremaining: 4.42ms\n",
      "96:\tlearn: 0.3802860\ttotal: 107ms\tremaining: 3.31ms\n",
      "97:\tlearn: 0.3795748\ttotal: 108ms\tremaining: 2.2ms\n",
      "98:\tlearn: 0.3789733\ttotal: 109ms\tremaining: 1.1ms\n",
      "99:\tlearn: 0.3783866\ttotal: 110ms\tremaining: 0us\n"
     ]
    },
    {
     "data": {
      "text/plain": [
       "<catboost.core.CatBoostClassifier at 0x7ff507abaee0>"
      ]
     },
     "execution_count": 85,
     "metadata": {},
     "output_type": "execute_result"
    }
   ],
   "source": [
    "cat.fit(x_train, y_train)"
   ]
  },
  {
   "cell_type": "code",
   "execution_count": 86,
   "id": "1ff373c9",
   "metadata": {
    "ExecuteTime": {
     "end_time": "2021-08-26T10:58:34.426672Z",
     "start_time": "2021-08-26T10:58:34.416918Z"
    }
   },
   "outputs": [
    {
     "data": {
      "text/plain": [
       "(0.8770949720670391, 0.901685393258427)"
      ]
     },
     "execution_count": 86,
     "metadata": {},
     "output_type": "execute_result"
    }
   ],
   "source": [
    "accuracy(cat.predict(x_val), y_val), accuracy(cat.predict(x_train), y_train)"
   ]
  },
  {
   "cell_type": "code",
   "execution_count": null,
   "id": "cd2fd71f",
   "metadata": {},
   "outputs": [],
   "source": []
  },
  {
   "cell_type": "code",
   "execution_count": null,
   "id": "58ebf107",
   "metadata": {},
   "outputs": [],
   "source": []
  }
 ],
 "metadata": {
  "kernelspec": {
   "display_name": "Python 3",
   "language": "python",
   "name": "python3"
  },
  "language_info": {
   "codemirror_mode": {
    "name": "ipython",
    "version": 3
   },
   "file_extension": ".py",
   "mimetype": "text/x-python",
   "name": "python",
   "nbconvert_exporter": "python",
   "pygments_lexer": "ipython3",
   "version": "3.8.8"
  },
  "toc": {
   "base_numbering": 1,
   "nav_menu": {},
   "number_sections": true,
   "sideBar": true,
   "skip_h1_title": false,
   "title_cell": "Table of Contents",
   "title_sidebar": "Contents",
   "toc_cell": false,
   "toc_position": {},
   "toc_section_display": true,
   "toc_window_display": false
  },
  "varInspector": {
   "cols": {
    "lenName": 16,
    "lenType": 16,
    "lenVar": 40
   },
   "kernels_config": {
    "python": {
     "delete_cmd_postfix": "",
     "delete_cmd_prefix": "del ",
     "library": "var_list.py",
     "varRefreshCmd": "print(var_dic_list())"
    },
    "r": {
     "delete_cmd_postfix": ") ",
     "delete_cmd_prefix": "rm(",
     "library": "var_list.r",
     "varRefreshCmd": "cat(var_dic_list()) "
    }
   },
   "types_to_exclude": [
    "module",
    "function",
    "builtin_function_or_method",
    "instance",
    "_Feature"
   ],
   "window_display": false
  }
 },
 "nbformat": 4,
 "nbformat_minor": 5
}
